{
  "nbformat": 4,
  "nbformat_minor": 0,
  "metadata": {
    "colab": {
      "provenance": []
    },
    "kernelspec": {
      "name": "python3",
      "display_name": "Python 3"
    },
    "language_info": {
      "name": "python"
    }
  },
  "cells": [
    {
      "cell_type": "code",
      "source": [
        "import pandas as pd\n",
        "import numpy as np\n",
        "from sklearn.model_selection import train_test_split\n",
        "from sklearn.preprocessing import StandardScaler, LabelEncoder\n",
        "from sklearn.impute import SimpleImputer\n",
        "from sklearn.ensemble import RandomForestClassifier\n",
        "from sklearn.metrics import accuracy_score, precision_score, recall_score, f1_score, confusion_matrix, classification_report\n",
        "import matplotlib.pyplot as plt\n",
        "import seaborn as sns\n",
        "\n",
        "url = \"https://raw.githubusercontent.com/selva86/datasets/master/GermanCredit.csv\"\n",
        "data = pd.read_csv(url)\n",
        "\n",
        "print(data.head())\n",
        "print(data.columns)\n",
        "\n",
        "X = data.drop(columns=['credit_risk'])\n",
        "y = data['credit_risk']\n",
        "\n",
        "numeric_cols = X.select_dtypes(include=['number']).columns\n",
        "categorical_cols = X.select_dtypes(include=['object']).columns\n",
        "\n",
        "numeric_imputer = SimpleImputer(strategy='mean')\n",
        "X[numeric_cols] = numeric_imputer.fit_transform(X[numeric_cols])\n",
        "\n",
        "categorical_imputer = SimpleImputer(strategy='most_frequent')\n",
        "X[categorical_cols] = categorical_imputer.fit_transform(X[categorical_cols])\n",
        "\n",
        "label_encoders = {}\n",
        "for column in categorical_cols:\n",
        "    le = LabelEncoder()\n",
        "    X[column] = le.fit_transform(X[column])\n",
        "    label_encoders[column] = le\n",
        "\n",
        "scaler = StandardScaler()\n",
        "X_scaled = scaler.fit_transform(X)\n",
        "\n",
        "X_train, X_test, y_train, y_test = train_test_split(X_scaled, y, test_size=0.2, random_state=42)\n",
        "\n",
        "model = RandomForestClassifier(n_estimators=100, random_state=42)\n",
        "\n",
        "model.fit(X_train, y_train)\n",
        "\n",
        "y_pred = model.predict(X_test)\n",
        "\n",
        "accuracy = accuracy_score(y_test, y_pred)\n",
        "precision = precision_score(y_test, y_pred)\n",
        "recall = recall_score(y_test, y_pred)\n",
        "f1 = f1_score(y_test, y_pred)\n",
        "\n",
        "print(f\"Accuracy: {accuracy:.2f}\")\n",
        "print(f\"Precision: {precision:.2f}\")\n",
        "print(f\"Recall: {recall:.2f}\")\n",
        "print(f\"F1 Score: {f1:.2f}\")\n",
        "\n",
        "conf_matrix = confusion_matrix(y_test, y_pred)\n",
        "sns.heatmap(conf_matrix, annot=True, fmt='d', cmap='Blues')\n",
        "plt.xlabel('Predicted')\n",
        "plt.ylabel('Actual')\n",
        "plt.title('Confusion Matrix')\n",
        "plt.show()\n",
        "\n",
        "print(classification_report(y_test, y_pred))\n"
      ],
      "metadata": {
        "colab": {
          "base_uri": "https://localhost:8080/",
          "height": 1000
        },
        "id": "gvMaLb0K52od",
        "outputId": "16a2ca32-948b-470f-afff-4e66ec24ce68"
      },
      "execution_count": null,
      "outputs": [
        {
          "output_type": "stream",
          "name": "stdout",
          "text": [
            "                status  duration                            credit_history  \\\n",
            "0         ... < 100 DM         6   critical account/other credits existing   \n",
            "1    0 <= ... < 200 DM        48  existing credits paid back duly till now   \n",
            "2  no checking account        12   critical account/other credits existing   \n",
            "3         ... < 100 DM        42  existing credits paid back duly till now   \n",
            "4         ... < 100 DM        24           delay in paying off in the past   \n",
            "\n",
            "               purpose  amount                     savings  \\\n",
            "0  domestic appliances    1169  unknown/no savings account   \n",
            "1  domestic appliances    5951                ... < 100 DM   \n",
            "2           retraining    2096                ... < 100 DM   \n",
            "3     radio/television    7882                ... < 100 DM   \n",
            "4            car (new)    4870                ... < 100 DM   \n",
            "\n",
            "  employment_duration  installment_rate                  personal_status_sex  \\\n",
            "0      ... >= 7 years                 4                        male : single   \n",
            "1  1 <= ... < 4 years                 2  female : divorced/separated/married   \n",
            "2  4 <= ... < 7 years                 2                        male : single   \n",
            "3  4 <= ... < 7 years                 2                        male : single   \n",
            "4  1 <= ... < 4 years                 3                        male : single   \n",
            "\n",
            "  other_debtors  ...                                           property age  \\\n",
            "0          none  ...                                        real estate  67   \n",
            "1          none  ...                                        real estate  22   \n",
            "2          none  ...                                        real estate  49   \n",
            "3     guarantor  ...  building society savings agreement/life insurance  45   \n",
            "4          none  ...                                unknown/no property  53   \n",
            "\n",
            "   other_installment_plans   housing number_credits  \\\n",
            "0                     none       own              2   \n",
            "1                     none       own              1   \n",
            "2                     none       own              1   \n",
            "3                     none  for free              1   \n",
            "4                     none  for free              2   \n",
            "\n",
            "                         job people_liable  telephone foreign_worker  \\\n",
            "0  skilled employee/official             1        yes            yes   \n",
            "1  skilled employee/official             1         no            yes   \n",
            "2       unskilled - resident             2         no            yes   \n",
            "3  skilled employee/official             2         no            yes   \n",
            "4  skilled employee/official             2         no            yes   \n",
            "\n",
            "  credit_risk  \n",
            "0           1  \n",
            "1           0  \n",
            "2           1  \n",
            "3           1  \n",
            "4           0  \n",
            "\n",
            "[5 rows x 21 columns]\n",
            "Index(['status', 'duration', 'credit_history', 'purpose', 'amount', 'savings',\n",
            "       'employment_duration', 'installment_rate', 'personal_status_sex',\n",
            "       'other_debtors', 'present_residence', 'property', 'age',\n",
            "       'other_installment_plans', 'housing', 'number_credits', 'job',\n",
            "       'people_liable', 'telephone', 'foreign_worker', 'credit_risk'],\n",
            "      dtype='object')\n",
            "Accuracy: 0.79\n",
            "Precision: 0.80\n",
            "Recall: 0.92\n",
            "F1 Score: 0.86\n"
          ]
        },
        {
          "output_type": "display_data",
          "data": {
            "text/plain": [
              "<Figure size 640x480 with 2 Axes>"
            ],
            "image/png": "[encoded data removed]"
          },
          "metadata": {}
        },
        {
          "output_type": "stream",
          "name": "stdout",
          "text": [
            "              precision    recall  f1-score   support\n",
            "\n",
            "           0       0.71      0.46      0.56        59\n",
            "           1       0.80      0.92      0.86       141\n",
            "\n",
            "    accuracy                           0.79       200\n",
            "   macro avg       0.76      0.69      0.71       200\n",
            "weighted avg       0.78      0.79      0.77       200\n",
            "\n"
          ]
        }
      ]
    }
  ]
}